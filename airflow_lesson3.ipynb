{
 "cells": [
  {
   "cell_type": "code",
   "execution_count": 20,
   "metadata": {},
   "outputs": [],
   "source": [
    "import pandas as pd\n",
    "from datetime import timedelta\n",
    "from datetime import datetime\n",
    "from airflow.decorators import dag, task"
   ]
  },
  {
   "cell_type": "code",
   "execution_count": 21,
   "metadata": {},
   "outputs": [],
   "source": [
    "DATASET = '/var/lib/airflow/airflow.git/dags/a.batalov/vgsales.csv'\n",
    "YEAR = 1994 + hash(f'ar_davydov') % 23"
   ]
  },
  {
   "cell_type": "code",
   "execution_count": 24,
   "metadata": {},
   "outputs": [],
   "source": [
    "default_args = {\n",
    "    'owner': 'ar_davydov',\n",
    "    'depends_on_past': False,\n",
    "    'retries': 2,\n",
    "    'retry_delay': timedelta(minutes=5),\n",
    "    'start_date': datetime(2023, 4, 14),\n",
    "    'schedule_interval': '00 12 2 * *' \n",
    "}\n"
   ]
  },
  {
   "cell_type": "code",
   "execution_count": 25,
   "metadata": {},
   "outputs": [],
   "source": [
    "@dag(default_args=default_args, catchup=False)\n",
    "def ar_davydov_vgsales():\n",
    "    @task()\n",
    "    def get_data():\n",
    "        df = pd.read_csv(DATASET)\n",
    "        df = df[df.Year == YEAR].reset_index()\n",
    "        return df\n",
    "\n",
    "    @task()\n",
    "    def get_top_global(df):\n",
    "        top_global = df.groupby('Name', as_index=False).agg({'Global_Sales':'sum'}) \\\n",
    "        .sort_values('Global_Sales', ascending=False).head(1)\n",
    "        return top_global.to_string(index=False)\n",
    "\n",
    "    @task()\n",
    "    def get_top_eu(df):\n",
    "        top_eu = df.groupby('Genre', as_index=False).agg({'EU_Sales':'sum'})\n",
    "        max_eu_sales = top_eu.EU_Sales.max()\n",
    "        top_eu = top_eu[top_eu.EU_Sales == max_eu_sales]\n",
    "        return top_eu.to_string(index=False)\n",
    "\n",
    "    @task()\n",
    "    def get_top_na(df):\n",
    "        top_na = df[df.NA_Sales > 1].groupby(['Platform','Name'], as_index=False).agg({'Name':'count'})\n",
    "        top_na = top_na.groupby('Platform',as_index=False).agg({'Name':'sum'}).rename(columns={'Name':'Quantity'})\n",
    "        max_na_quantity = top_na.Quantity.max()\n",
    "        top_na = top_na[top_na.Quantity == max_na_quantity]\n",
    "        return top_na.to_string(index=False)\n",
    "\n",
    "    @task()\n",
    "    def get_top_jp(df):\n",
    "        top_jp = df.groupby('Publisher', as_index=False).agg({'JP_Sales':'mean'})\n",
    "        max_jp_mean_sales = top_jp.JP_Sales.max()\n",
    "        top_jp = top_jp[top_jp.JP_Sales == max_jp_mean_sales]\n",
    "        return top_jp.to_string(index=False)\n",
    "\n",
    "    @task()\n",
    "    def get_eu_better_jp(df):\n",
    "        sales_eu_better_jp = df.groupby('Name', as_index=False).agg({'EU_Sales':'sum', 'JP_Sales':'sum'})\n",
    "        sales_eu_better_jp = sales_eu_better_jp[sales_eu_better_jp.EU_Sales > sales_eu_better_jp.JP_Sales].Name.nunique()\n",
    "        return sales_eu_better_jp\n",
    "\n",
    "    @task()\n",
    "    def print_data(top_global, top_eu, top_na, top_jp, sales_eu_better_jp):\n",
    "        print(\n",
    "f'''Sales data for {YEAR} year.\n",
    "Top Global sales game:\n",
    "{top_global}\n",
    "\n",
    "Top EU sales by genre:\n",
    "{top_eu}\n",
    "\n",
    "Top NA sales by platform:\n",
    "{top_na}\n",
    "\n",
    "Top JP sales by publisher:\n",
    "{top_jp}\n",
    "\n",
    "Quantity of games sold better in EU than JP:\n",
    "{sales_eu_better_jp}\n",
    "''')\n",
    "\n",
    "    df = get_data()\n",
    "    top_global = get_top_global(df)\n",
    "    top_eu = get_top_eu(df)\n",
    "    top_na = get_top_na(df)\n",
    "    top_jp = get_top_jp(df)\n",
    "    sales_eu_better_jp = get_eu_better_jp(df)\n",
    "    print_data(top_global, top_eu, top_na, top_jp, sales_eu_better_jp)\n",
    "\n",
    "ar_davydov_vgsales = ar_davydov_vgsales()\n"
   ]
  },
  {
   "cell_type": "code",
   "execution_count": null,
   "metadata": {},
   "outputs": [],
   "source": []
  }
 ],
 "metadata": {
  "kernelspec": {
   "display_name": "Python 3",
   "language": "python",
   "name": "python3"
  },
  "language_info": {
   "codemirror_mode": {
    "name": "ipython",
    "version": 3
   },
   "file_extension": ".py",
   "mimetype": "text/x-python",
   "name": "python",
   "nbconvert_exporter": "python",
   "pygments_lexer": "ipython3",
   "version": "3.7.3"
  }
 },
 "nbformat": 4,
 "nbformat_minor": 4
}
