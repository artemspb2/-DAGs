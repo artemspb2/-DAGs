{
 "cells": [
  {
   "cell_type": "code",
   "execution_count": 10,
   "metadata": {},
   "outputs": [],
   "source": [
    "import requests\n",
    "import pandas as pd\n",
    "from datetime import timedelta\n",
    "from datetime import datetime\n",
    "\n",
    "from airflow import DAG\n",
    "from airflow.operators.python import PythonOperator\n"
   ]
  },
  {
   "cell_type": "code",
   "execution_count": 11,
   "metadata": {},
   "outputs": [],
   "source": [
    "\n",
    "TOP_1M_DOMAINS = 'http://s3.amazonaws.com/alexa-static/top-1m.csv.zip'\n",
    "TOP_1M_DOMAINS_FILE = 'top-1m.csv'\n"
   ]
  },
  {
   "cell_type": "code",
   "execution_count": 12,
   "metadata": {},
   "outputs": [],
   "source": [
    "def get_data():\n",
    "    # Здесь пока оставили запись в файл, как передавать переменную между тасками будет в третьем уроке\n",
    "    top_doms = pd.read_csv(TOP_1M_DOMAINS)\n",
    "    top_data = top_doms.to_csv(index=False)\n",
    "\n",
    "    with open(TOP_1M_DOMAINS_FILE, 'w') as f:\n",
    "        f.write(top_data)\n",
    "\n"
   ]
  },
  {
   "cell_type": "code",
   "execution_count": 13,
   "metadata": {},
   "outputs": [],
   "source": [
    "def get_top10domains():\n",
    "    top_data_df = pd.read_csv(TOP_1M_DOMAINS_FILE, names=['rank', 'domain'])\n",
    "    domains = top_data_df['domain'].str.split('.').str[-1]\n",
    "    counts = domains.value_counts()\n",
    "    top10domains = counts.head(10)\n",
    "    with open('top10domains.csv', 'w') as f:\n",
    "        f.write(top10domains.to_csv(index=False, header=False))\n"
   ]
  },
  {
   "cell_type": "code",
   "execution_count": 14,
   "metadata": {},
   "outputs": [],
   "source": [
    "def longest():\n",
    "    top_data_df = pd.read_csv(TOP_1M_DOMAINS_FILE, names=['rank', 'domain'])\n",
    "    longest = sorted(top_data_df[top_data_df['domain'].str.len() == top_data_df['domain'].str.len().max()]['domain'])[0]\n",
    "    with open('longest.csv', 'w') as f:\n",
    "        f.write(longest.to_csv(index=False, header=False))\n"
   ]
  },
  {
   "cell_type": "code",
   "execution_count": 15,
   "metadata": {},
   "outputs": [],
   "source": [
    "def airflow_pos():\n",
    "    top_data_df = pd.read_csv(TOP_1M_DOMAINS_FILE, names=['rank', 'domain'])\n",
    "    row = top_doms.loc[top_data_df['domain'] == 'airflow.com']\n",
    "    airflow_pos = row['rank'].values[0]\n",
    "    with open('airflow_pos.csv', 'w') as f:\n",
    "        f.write(airflow_pos.to_csv(index=False, header=False))"
   ]
  },
  {
   "cell_type": "code",
   "execution_count": 16,
   "metadata": {},
   "outputs": [],
   "source": [
    "def print_data(ds):\n",
    "    with open('top10domains.csv', 'r') as f:\n",
    "        top10domains_d = f.read()\n",
    "    with open('longest.csv', 'r') as f:\n",
    "        longest_domain = f.read()\n",
    "    with open('airflow_pos.csv', 'r') as f:\n",
    "        airflow_pos_s = f.read()\n",
    "    date = ds\n",
    "\n",
    "    print(f'Top domains {date}')\n",
    "    print(top10domains_d)\n",
    "\n",
    "    print(f'Longest domain {date}')\n",
    "    print(longest_domain)\n",
    "    \n",
    "    \n",
    "    print(f'Airflow position is {date}')\n",
    "    print(airflow_pos_s)\n"
   ]
  },
  {
   "cell_type": "code",
   "execution_count": 17,
   "metadata": {},
   "outputs": [
    {
     "data": {
      "text/plain": [
       "<Task(PythonOperator): print_data>"
      ]
     },
     "execution_count": 17,
     "metadata": {},
     "output_type": "execute_result"
    }
   ],
   "source": [
    "\n",
    "default_args = {\n",
    "    'owner': 'ar-davydov',\n",
    "    'depends_on_past': False,\n",
    "    'retries': 2,\n",
    "    'retry_delay': timedelta(minutes=5),\n",
    "    'start_date': datetime(2022, 4, 9),\n",
    "}\n",
    "schedule_interval = '0 11 * * *'\n",
    "\n",
    "dag = DAG('some_tasks_kk', default_args=default_args, schedule_interval=schedule_interval)\n",
    "\n",
    "t1 = PythonOperator(task_id='get_data',\n",
    "                    python_callable=get_data,\n",
    "                    dag=dag)\n",
    "\n",
    "t2_10d = PythonOperator(task_id='get_top10domains',\n",
    "                    python_callable=get_top10domains,\n",
    "                    dag=dag)\n",
    "\n",
    "t2_Longest = PythonOperator(task_id='longest',\n",
    "                        python_callable=longest,\n",
    "                        dag=dag)\n",
    "\n",
    "t2_airflow = PythonOperator(task_id='airflow_pos',\n",
    "                        python_callable=airflow_pos,\n",
    "                        dag=dag)\n",
    "\n",
    "t3 = PythonOperator(task_id='print_data',\n",
    "                    python_callable=print_data,\n",
    "                    dag=dag)\n",
    "\n",
    "t1 >> [t2_10d, t2_Longest, t2_airflow] >> t3\n"
   ]
  },
  {
   "cell_type": "code",
   "execution_count": null,
   "metadata": {},
   "outputs": [],
   "source": []
  }
 ],
 "metadata": {
  "kernelspec": {
   "display_name": "Python 3",
   "language": "python",
   "name": "python3"
  },
  "language_info": {
   "codemirror_mode": {
    "name": "ipython",
    "version": 3
   },
   "file_extension": ".py",
   "mimetype": "text/x-python",
   "name": "python",
   "nbconvert_exporter": "python",
   "pygments_lexer": "ipython3",
   "version": "3.7.3"
  }
 },
 "nbformat": 4,
 "nbformat_minor": 4
}
